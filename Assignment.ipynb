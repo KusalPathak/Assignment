{
 "cells": [
  {
   "cell_type": "code",
   "execution_count": 1,
   "id": "dfdce5c3-d6f7-4f1a-a7bd-904f80b8b6bc",
   "metadata": {},
   "outputs": [
    {
     "name": "stdout",
     "output_type": "stream",
     "text": [
      "Original list of favorite movies:\n",
      "['Venom', 'Flash', 'Interstellar', 'The Dark Knight']\n",
      "Updated list of favorite movies:\n",
      "['Venom', 'Flash', 'Interstellar', 'The Dark Knight', 'Superman vs Batman']\n"
     ]
    }
   ],
   "source": [
    "#Q NO 4\n",
    "movies = [\"Venom\",\"Flash\",\"Interstellar\",\"The Dark Knight\"]\n",
    "print(\"Original list of favorite movies:\")\n",
    "print(movies)\n",
    "adding_movie = \"Superman vs Batman\"\n",
    "movies.append(adding_movie)\n",
    "print(\"Updated list of favorite movies:\")\n",
    "print(movies)"
   ]
  },
  {
   "cell_type": "code",
   "execution_count": 3,
   "id": "523fd314-69b3-4a9d-b9d9-4ad74615270d",
   "metadata": {},
   "outputs": [
    {
     "name": "stdout",
     "output_type": "stream",
     "text": [
      "55\n"
     ]
    }
   ],
   "source": [
    "#Q NO 5\n",
    "integers = [1, 2, 3, 4, 5, 6, 7, 8, 9, 10]\n",
    "total = 0\n",
    "for num in integers:\n",
    "    total += num\n",
    "print(total)"
   ]
  },
  {
   "cell_type": "code",
   "execution_count": 5,
   "id": "5744b3a4-c879-4bf0-9c8b-2058f4651fdf",
   "metadata": {},
   "outputs": [
    {
     "name": "stdout",
     "output_type": "stream",
     "text": [
      "Original list: [1, 'orange', 9.4, 'mango', 4]\n",
      "Modified list: ['orange', 9.4, 'mango', 4]\n"
     ]
    }
   ],
   "source": [
    "#Q NO 6\n",
    "mix_list = [1, \"orange\", 9.4, \"mango\", 4]\n",
    "print(\"Original list:\", mix_list)\n",
    "mix_list.pop(0)\n",
    "print(\"Modified list:\", mix_list)"
   ]
  },
  {
   "cell_type": "code",
   "execution_count": 9,
   "id": "acdf726a-8f85-4167-b7ec-96ee070f0101",
   "metadata": {},
   "outputs": [
    {
     "name": "stdout",
     "output_type": "stream",
     "text": [
      "Days in the week: ('Sunday', 'Monday', 'Tuesday', 'Wednesday', 'Thursday', 'Friday', 'Saturday')\n",
      "The fourth day is: Wednesday\n"
     ]
    }
   ],
   "source": [
    "#Q NO 7\n",
    "days = (\"Sunday\", \"Monday\", \"Tuesday\", \"Wednesday\", \"Thursday\", \"Friday\", \"Saturday\")\n",
    "print(\"Days in the week:\", days)\n",
    "print(\"The fourth day is:\", days[3])"
   ]
  },
  {
   "cell_type": "code",
   "execution_count": 13,
   "id": "25f003e3-dec9-4ec5-98eb-257c8a85bd28",
   "metadata": {},
   "outputs": [
    {
     "name": "stdout",
     "output_type": "stream",
     "text": [
      "Purple present in colors? True\n"
     ]
    }
   ],
   "source": [
    "#Q NO 8\n",
    "colors = (\"black\", \"grey\", \"purple\", \"yellow\", \"blue\")\n",
    "color_to_check = \"purple\"\n",
    "is_present = False\n",
    "for color in colors:\n",
    "    if color == color_to_check:\n",
    "        is_present = True\n",
    "        break\n",
    "print(\"Purple present in colors?\", is_present)"
   ]
  },
  {
   "cell_type": "code",
   "execution_count": 15,
   "id": "5a4731f4-1717-4686-97b8-0a0969b067b5",
   "metadata": {},
   "outputs": [
    {
     "name": "stdout",
     "output_type": "stream",
     "text": [
      "Original book info: {'title': 'The monk who sold his ferrari', 'author': 'Robin Sharma', 'year': 2017}\n",
      "Updated book info: {'title': 'The monk who sold his ferrari', 'author': 'Robin Sharma', 'year': 2020}\n"
     ]
    }
   ],
   "source": [
    "#Q NO 9\n",
    "book = {\n",
    "    \"title\": \"The monk who sold his ferrari\",\n",
    "    \"author\": \"Robin Sharma\",\n",
    "    \"year\": 2017\n",
    "}\n",
    "print(\"Original book info:\", book)\n",
    "book[\"year\"] = 2020\n",
    "print(\"Updated book info:\", book)"
   ]
  },
  {
   "cell_type": "code",
   "execution_count": 19,
   "id": "03824e4f-0596-469b-b3af-ccb5a8b0df68",
   "metadata": {},
   "outputs": [
    {
     "name": "stdout",
     "output_type": "stream",
     "text": [
      "Original dictionary: {'banana': 'yellow', 'apple': 'red', 'grape': 'black', 'orange': 'orange'}\n",
      "Updated dictionary: {'banana': 'yellow', 'apple': 'red', 'grape': 'black', 'orange': 'orange', 'kiwi': 'green'}\n"
     ]
    }
   ],
   "source": [
    "#Q NO 10\n",
    "color_of_fruits = {\n",
    "    \"banana\": \"yellow\",\n",
    "    \"apple\": \"red\",\n",
    "    \"grape\": \"black\",\n",
    "    \"orange\": \"orange\"\n",
    "}\n",
    "print(\"Original dictionary:\", color_of_fruits)\n",
    "color_of_fruits[\"kiwi\"] = \"green\"\n",
    "print(\"Updated dictionary:\", color_of_fruits)"
   ]
  },
  {
   "cell_type": "code",
   "execution_count": 21,
   "id": "17ce2d1c-8752-48a8-9a9a-7a5ce1eabef4",
   "metadata": {},
   "outputs": [
    {
     "name": "stdout",
     "output_type": "stream",
     "text": [
      "Original dictionary: {'Kavre': 100000, 'Itahari': 200000, 'Birgunj': 300000, 'Dhangadi': 400000}\n",
      "Updated dictionary: {'Kavre': 100000, 'Itahari': 200000, 'Birgunj': 300000}\n"
     ]
    }
   ],
   "source": [
    "#Q NO 11\n",
    "city = {\n",
    "    \"Kavre\": 100000,\n",
    "    \"Itahari\": 200000,\n",
    "    \"Birgunj\": 300000,\n",
    "    \"Dhangadi\": 400000\n",
    "}\n",
    "print(\"Original dictionary:\", city)\n",
    "city.pop(\"Dhangadi\")\n",
    "print(\"Updated dictionary:\", city)"
   ]
  },
  {
   "cell_type": "code",
   "execution_count": null,
   "id": "0e3685ac-bdfc-4dcb-a9cb-aff4a057828b",
   "metadata": {},
   "outputs": [],
   "source": []
  }
 ],
 "metadata": {
  "kernelspec": {
   "display_name": "Python 3 (ipykernel)",
   "language": "python",
   "name": "python3"
  },
  "language_info": {
   "codemirror_mode": {
    "name": "ipython",
    "version": 3
   },
   "file_extension": ".py",
   "mimetype": "text/x-python",
   "name": "python",
   "nbconvert_exporter": "python",
   "pygments_lexer": "ipython3",
   "version": "3.11.7"
  }
 },
 "nbformat": 4,
 "nbformat_minor": 5
}
